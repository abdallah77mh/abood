{
  "cells": [
    {
      "cell_type": "markdown",
      "metadata": {
        "id": "view-in-github",
        "colab_type": "text"
      },
      "source": [
        "<a href=\"https://colab.research.google.com/github/abdallah77mh/abood/blob/main/abdallah729183.ipynb\" target=\"_parent\"><img src=\"https://colab.research.google.com/assets/colab-badge.svg\" alt=\"Open In Colab\"/></a>"
      ]
    },
    {
      "cell_type": "code",
      "execution_count": null,
      "metadata": {
        "colab": {
          "base_uri": "https://localhost:8080/"
        },
        "id": "GGskMEd8C7A9",
        "outputId": "0c5a8b5e-2ea0-474c-8237-373bc94c7fd0"
      },
      "outputs": [
        {
          "output_type": "stream",
          "name": "stdout",
          "text": [
            "Looking in indexes: https://pypi.org/simple, https://us-python.pkg.dev/colab-wheels/public/simple/\n",
            "Requirement already satisfied: ipython-autotime in /usr/local/lib/python3.8/dist-packages (0.3.1)\n",
            "Requirement already satisfied: ipython in /usr/local/lib/python3.8/dist-packages (from ipython-autotime) (7.9.0)\n",
            "Requirement already satisfied: prompt-toolkit<2.1.0,>=2.0.0 in /usr/local/lib/python3.8/dist-packages (from ipython->ipython-autotime) (2.0.10)\n",
            "Requirement already satisfied: decorator in /usr/local/lib/python3.8/dist-packages (from ipython->ipython-autotime) (4.4.2)\n",
            "Requirement already satisfied: setuptools>=18.5 in /usr/local/lib/python3.8/dist-packages (from ipython->ipython-autotime) (57.4.0)\n",
            "Requirement already satisfied: pickleshare in /usr/local/lib/python3.8/dist-packages (from ipython->ipython-autotime) (0.7.5)\n",
            "Requirement already satisfied: pygments in /usr/local/lib/python3.8/dist-packages (from ipython->ipython-autotime) (2.6.1)\n",
            "Requirement already satisfied: jedi>=0.10 in /usr/local/lib/python3.8/dist-packages (from ipython->ipython-autotime) (0.18.2)\n",
            "Requirement already satisfied: backcall in /usr/local/lib/python3.8/dist-packages (from ipython->ipython-autotime) (0.2.0)\n",
            "Requirement already satisfied: traitlets>=4.2 in /usr/local/lib/python3.8/dist-packages (from ipython->ipython-autotime) (5.7.1)\n",
            "Requirement already satisfied: pexpect in /usr/local/lib/python3.8/dist-packages (from ipython->ipython-autotime) (4.8.0)\n",
            "Requirement already satisfied: parso<0.9.0,>=0.8.0 in /usr/local/lib/python3.8/dist-packages (from jedi>=0.10->ipython->ipython-autotime) (0.8.3)\n",
            "Requirement already satisfied: six>=1.9.0 in /usr/local/lib/python3.8/dist-packages (from prompt-toolkit<2.1.0,>=2.0.0->ipython->ipython-autotime) (1.15.0)\n",
            "Requirement already satisfied: wcwidth in /usr/local/lib/python3.8/dist-packages (from prompt-toolkit<2.1.0,>=2.0.0->ipython->ipython-autotime) (0.2.6)\n",
            "Requirement already satisfied: ptyprocess>=0.5 in /usr/local/lib/python3.8/dist-packages (from pexpect->ipython->ipython-autotime) (0.7.0)\n",
            "The autotime extension is already loaded. To reload it, use:\n",
            "  %reload_ext autotime\n",
            "time: 5.86 s (started: 2023-02-14 19:19:47 +00:00)\n"
          ]
        }
      ],
      "source": [
        "!pip install ipython-autotime\n",
        "%load_ext autotime"
      ]
    },
    {
      "cell_type": "code",
      "execution_count": 1,
      "metadata": {
        "colab": {
          "base_uri": "https://localhost:8080/"
        },
        "id": "PMyaQpt5CWpu",
        "outputId": "e7a7e0a7-6443-45ca-d42d-11229e9590c1"
      },
      "outputs": [
        {
          "output_type": "stream",
          "name": "stdout",
          "text": [
            "Looking in indexes: https://pypi.org/simple, https://us-python.pkg.dev/colab-wheels/public/simple/\n",
            "Collecting bing-image-downloader\n",
            "  Downloading bing_image_downloader-1.1.2-py3-none-any.whl (5.9 kB)\n",
            "Installing collected packages: bing-image-downloader\n",
            "Successfully installed bing-image-downloader-1.1.2\n"
          ]
        }
      ],
      "source": [
        "!pip install bing-image-downloader"
      ]
    },
    {
      "cell_type": "code",
      "execution_count": null,
      "metadata": {
        "id": "Qecz3UoBCiW0",
        "colab": {
          "base_uri": "https://localhost:8080/"
        },
        "outputId": "a7b6483d-19b7-4764-feb7-969b4119b960"
      },
      "outputs": [
        {
          "output_type": "stream",
          "name": "stdout",
          "text": [
            "mkdir: cannot create directory ‘images’: File exists\n",
            "time: 120 ms (started: 2023-02-14 19:18:02 +00:00)\n"
          ]
        }
      ],
      "source": [
        "!mkdir images"
      ]
    },
    {
      "cell_type": "code",
      "execution_count": null,
      "metadata": {
        "colab": {
          "base_uri": "https://localhost:8080/"
        },
        "id": "OwZZqCVfCigl",
        "outputId": "dbb230dd-b99f-4b41-ef8c-878d92d05b82"
      },
      "outputs": [
        {
          "output_type": "stream",
          "name": "stdout",
          "text": [
            "[%] Downloading Images to /content/images/diseased plant leaves\n",
            "\n",
            "\n",
            "[!!]Indexing page: 1\n",
            "\n",
            "[%] Indexed 30 Images on Page 1.\n",
            "\n",
            "===============================================\n",
            "\n",
            "[%] Downloading Image #1 from https://nwdistrict.ifas.ufl.edu/hort/files/2012/06/cercospora_hydrangea.jpg\n",
            "[%] File Downloaded !\n",
            "\n",
            "[%] Downloading Image #2 from https://www.familyhandyman.com/wp-content/uploads/2020/05/Black-Spot-Diplocarpon-rosae-GettyImages-1097545284.jpg\n",
            "[%] File Downloaded !\n",
            "\n",
            "[%] Downloading Image #3 from https://live.staticflickr.com/296/19101655946_4513eac162_b.jpg\n",
            "[%] File Downloaded !\n",
            "\n",
            "[%] Downloading Image #4 from https://i.pinimg.com/originals/b6/8b/f2/b68bf24759ba4b0f9665df3505198ba1.jpg\n",
            "[%] File Downloaded !\n",
            "\n",
            "[%] Downloading Image #5 from https://cdn.insteading.com/wp-content/uploads/2017/11/14939312972_8bac67ce8e_k-600x400.jpg\n",
            "[%] File Downloaded !\n",
            "\n",
            "[%] Downloading Image #6 from https://www.saga.co.uk/contentlibrary/saga/publishing/verticals/home-and-garden/gardening/advice-and-tips/pests/diseases/common-plant-diseases-fungal-leaf-spot-233754532-768.jpg\n",
            "[%] File Downloaded !\n",
            "\n",
            "[%] Downloading Image #7 from http://4.bp.blogspot.com/-ZJYjS3IFg1o/T44b5einfqI/AAAAAAAAAlM/LWtLGoGMGQ0/s1600/Diseased_Tomato_Leaves.JPG\n",
            "[%] File Downloaded !\n",
            "\n",
            "[%] Downloading Image #8 from http://plant.daleysfruit.com.au/l/plum-tree-leaf-disease1-12515.jpeg\n",
            "[%] File Downloaded !\n",
            "\n",
            "[%] Downloading Image #9 from https://www.gardeningknowhow.com/wp-content/uploads/2017/03/diseased-leaves.jpg\n",
            "[%] File Downloaded !\n",
            "\n",
            "[%] Downloading Image #10 from http://www.kastlekare.com/wp-content/uploads/Leaf-Fungus-photo-by-Scot-Nelson.jpg\n",
            "[%] File Downloaded !\n",
            "\n",
            "[%] Downloading Image #11 from https://i.stack.imgur.com/MoWGg.jpg\n",
            "[%] File Downloaded !\n",
            "\n",
            "[%] Downloading Image #12 from https://s3.amazonaws.com/plantvillage-production-new/images/pics/000/001/681/original/1575344-SMPT.jpg?1380636426\n",
            "[%] File Downloaded !\n",
            "\n",
            "[%] Downloading Image #13 from https://benchmarklandscape.com/wp-content/uploads/2015/04/Fotolia_70897371_Subscription_Monthly_M.jpg\n",
            "[%] File Downloaded !\n",
            "\n",
            "[%] Downloading Image #14 from http://www.naturallivingideas.com/wp-content/uploads/2017/03/common-plant-diseases.jpg\n",
            "[%] File Downloaded !\n",
            "\n",
            "[%] Downloading Image #15 from http://il4.picdn.net/shutterstock/videos/8845588/thumb/1.jpg\n",
            "[%] File Downloaded !\n",
            "\n",
            "[%] Downloading Image #16 from https://www.kiwicare.co.nz/assets/blogimages/Disease-Leaf.jpg\n",
            "[%] File Downloaded !\n",
            "\n",
            "[%] Downloading Image #17 from https://trydale.com/wp-content/uploads/2017/02/LEAF-SPOT.jpg\n",
            "[%] File Downloaded !\n",
            "\n",
            "[%] Downloading Image #18 from https://plantdoc.extension.wisc.edu/files/2020/08/20200817_090659.jpg\n",
            "[%] File Downloaded !\n",
            "\n",
            "[%] Downloading Image #19 from http://anneofgreengardens.com/wp-content/uploads/2015/09/3.-Banner-Powdery-mildew-Anne-of-Green-Gardens-.jpg\n",
            "[%] File Downloaded !\n",
            "\n",
            "[%] Downloading Image #20 from https://i.pinimg.com/736x/39/33/50/393350dbdfb7a0e2f263c112914af477.jpg\n",
            "[%] File Downloaded !\n",
            "\n",
            "[%] Downloading Image #21 from http://www.offthegridnews.com/wp-content/uploads/2016/03/garden-disease.jpg\n",
            "[%] File Downloaded !\n",
            "\n",
            "[%] Downloading Image #22 from http://mediad.publicbroadcasting.net/p/knau/files/styles/medium/public/201510/leaf_infection1.jpg\n",
            "[%] File Downloaded !\n",
            "\n",
            "[%] Downloading Image #23 from https://1.bp.blogspot.com/-fr7iwyvZ5t8/Xp082pHa5pI/AAAAAAAABBw/DSrN-yg9Lz4K3OjMzYD5gc_GHurIHvcRgCLcBGAsYHQ/s640/Leaf%2Bspot%2Bdisease.jpg\n",
            "[%] File Downloaded !\n",
            "\n",
            "[%] Downloading Image #24 from https://thumbs.dreamstime.com/b/infected-diseased-plant-small-insects-branch-green-leaves-growing-garden-parasites-farming-agricultural-damage-162557744.jpg\n",
            "[%] File Downloaded !\n",
            "\n",
            "[%] Downloading Image #25 from http://2.bp.blogspot.com/-T_B_aZ6GfRQ/VYCtCoPLHlI/AAAAAAAAAik/BLruAlDD2dc/s1600/septoria%2Bleaf%2Bspot2.jpg\n",
            "[%] File Downloaded !\n",
            "\n",
            "[%] Downloading Image #26 from https://savvygardening.com/wp-content/uploads/2017/06/tree_disease_maple.jpg\n",
            "[%] File Downloaded !\n",
            "\n",
            "[%] Downloading Image #27 from https://hortnews.extension.iastate.edu/files/resize/article/images/dsc_0004_copy-400x598.png\n",
            "[%] File Downloaded !\n",
            "\n",
            "[%] Downloading Image #28 from https://i.stack.imgur.com/8mUBn.jpg\n",
            "[%] File Downloaded !\n",
            "\n",
            "[%] Downloading Image #29 from http://2.bp.blogspot.com/-U5tNVyUH8To/T57fxwvPyQI/AAAAAAAAAOk/-yXQ8K_i6vY/s1600/IMG_0873.JPG\n",
            "[%] File Downloaded !\n",
            "\n",
            "[%] Downloading Image #30 from https://www.walterreeves.com/wp-content/uploads/2013/05/Hibiscus-White-Granular-deposits.jpg\n",
            "[%] File Downloaded !\n",
            "\n",
            "\n",
            "\n",
            "[%] Done. Downloaded 30 images.\n",
            "time: 10.9 s (started: 2023-02-14 19:18:05 +00:00)\n"
          ]
        }
      ],
      "source": [
        "from bing_image_downloader import downloader\n",
        "downloader.download(\"diseased plant leaves\",limit=30,output_dir='images',adult_filter_off=True)"
      ]
    },
    {
      "cell_type": "code",
      "execution_count": null,
      "metadata": {
        "colab": {
          "base_uri": "https://localhost:8080/"
        },
        "id": "aVtztWGTSe_T",
        "outputId": "ec1742f7-6055-4d51-de05-c7204e4230e6"
      },
      "outputs": [
        {
          "output_type": "stream",
          "name": "stdout",
          "text": [
            "[%] Downloading Images to /content/images/Ripe tomato \n",
            "\n",
            "\n",
            "[!!]Indexing page: 1\n",
            "\n",
            "[%] Indexed 30 Images on Page 1.\n",
            "\n",
            "===============================================\n",
            "\n",
            "[%] Downloading Image #1 from https://www.neseed.com/wp-content/uploads/2016/11/33539-Red-Ripe-Tomato.jpg\n",
            "[Error]Invalid image, not saving https://www.neseed.com/wp-content/uploads/2016/11/33539-Red-Ripe-Tomato.jpg\n",
            "\n",
            "[!] Issue getting: https://www.neseed.com/wp-content/uploads/2016/11/33539-Red-Ripe-Tomato.jpg\n",
            "[!] Error:: Invalid image, not saving https://www.neseed.com/wp-content/uploads/2016/11/33539-Red-Ripe-Tomato.jpg\n",
            "\n",
            "[%] Downloading Image #1 from http://www.photos-public-domain.com/wp-content/uploads/2011/11/one-ripe-tomato-amongst-many-green-ones.jpg\n",
            "[%] File Downloaded !\n",
            "\n",
            "[%] Downloading Image #2 from https://hosstools.com/wp-content/uploads/2020/10/southern-ripe-tomato.jpg\n",
            "[%] File Downloaded !\n",
            "\n",
            "[%] Downloading Image #3 from https://images.freeimages.com/images/large-previews/7e7/ripe-tomatoes-1324953.jpg\n",
            "[%] File Downloaded !\n",
            "\n",
            "[%] Downloading Image #4 from https://www.thespruce.com/thmb/0CTeSKSah9KYM40swFECdv9yhhI=/2117x1411/filters:fill(auto,1)/Ripetomatoes-twenty20_7c653289-3bb4-44a1-8020-891e86539214-59c145d3d088c00011dd78c4.jpg\n",
            "[%] File Downloaded !\n",
            "\n",
            "[%] Downloading Image #5 from https://www.thespruce.com/thmb/DIjBRZBqobWem8krG61op_lytyA=/2698x0/filters:no_upscale():max_bytes(150000):strip_icc()/how-do-i-know-when-my-tomato-is-ripe-847811-08-d672feaf4aed44bca626499bb59c8a07.jpg\n",
            "[%] File Downloaded !\n",
            "\n",
            "[%] Downloading Image #6 from http://www.zastavki.com/pictures/originals/2013/Nature___Plants___Juicy_ripe_tomato_041916_.jpg\n",
            "[%] File Downloaded !\n",
            "\n",
            "[%] Downloading Image #7 from https://cmkt-image-prd.freetls.fastly.net/0.1.0/ps/176682/1360/1073/m1/fpnw/wm1/ogkm8yjqfzopzblmp3xliw0xebrw3ftwcbjqprxyk4inmgulgvmxn7kasyltxmif-.jpg?1409790834&amp;s=0ed96e4fed240f2ce04899bb9fd35c46\n",
            "[!] Issue getting: https://cmkt-image-prd.freetls.fastly.net/0.1.0/ps/176682/1360/1073/m1/fpnw/wm1/ogkm8yjqfzopzblmp3xliw0xebrw3ftwcbjqprxyk4inmgulgvmxn7kasyltxmif-.jpg?1409790834&amp;s=0ed96e4fed240f2ce04899bb9fd35c46\n",
            "[!] Error:: HTTP Error 404: Not Found\n",
            "[%] Downloading Image #7 from http://backtoorganic.com/wp-content/uploads/2012/07/vine-ripe-tomatoes.jpg\n",
            "[%] File Downloaded !\n",
            "\n",
            "[%] Downloading Image #8 from https://www.openfotos.com/pictures/ripe-tomato-6150.full.png\n",
            "[%] File Downloaded !\n",
            "\n",
            "[%] Downloading Image #9 from https://i0.wp.com/feelreal.com/wp-content/uploads/2019/03/Ripe-Tomatoes-e1553259275433.jpg?fit=1920%2C1918&amp;ssl=1\n",
            "[!] Issue getting: https://i0.wp.com/feelreal.com/wp-content/uploads/2019/03/Ripe-Tomatoes-e1553259275433.jpg?fit=1920%2C1918&amp;ssl=1\n",
            "[!] Error:: HTTP Error 404: Not Found\n",
            "[%] Downloading Image #9 from http://www.wholesalesuppliesplus.com/Images/Products/8517-FarmersMarket-Vine-Ripe-Tomato-Fragrance-Oil-684.jpg\n",
            "[%] File Downloaded !\n",
            "\n",
            "[%] Downloading Image #10 from http://image.shutterstock.com/z/stock-photo-ripe-tomato-71015611.jpg\n",
            "[%] File Downloaded !\n",
            "\n",
            "[%] Downloading Image #11 from https://i.redd.it/bg2fvbg0amu21.jpg\n",
            "[%] File Downloaded !\n",
            "\n",
            "[%] Downloading Image #12 from https://www.publicdomainpictures.net/pictures/10000/velka/ripe-tomatoes-on-the-vine-23441280421503iFlx.jpg\n",
            "[%] File Downloaded !\n",
            "\n",
            "[%] Downloading Image #13 from https://images.immediate.co.uk/volatile/sites/10/2018/02/34ef20c1-69aa-45c0-8f41-083486a562bf-0079cca.jpg?quality=45&amp;resize=1920\n",
            "[%] File Downloaded !\n",
            "\n",
            "[%] Downloading Image #14 from https://www.thespruce.com/thmb/aXToVOnWM-8BJraU2tVGSntF2HI=/5019x3340/filters:no_upscale():max_bytes(150000):strip_icc()/ripe-red-tomato-with-split-in-skin-97975429-5b26fab330371300363e8dfd.jpg\n",
            "[%] File Downloaded !\n",
            "\n",
            "[%] Downloading Image #15 from http://1.bp.blogspot.com/-OYUrH871-o0/Tgiq3dXc2GI/AAAAAAAAAVY/1ezQsGIRYUI/s1600/Vine+Ripe+Tomatoes.jpg\n",
            "[%] File Downloaded !\n",
            "\n",
            "[%] Downloading Image #16 from https://1.bp.blogspot.com/-rfeES0YGGW4/ToODI5hOI7I/AAAAAAAABhE/nUdLBSCel98/s1600/ripe+tomato.JPG\n",
            "[%] File Downloaded !\n",
            "\n",
            "[%] Downloading Image #17 from https://thumbs.dreamstime.com/z/ripe-tomato-26534997.jpg\n",
            "[%] File Downloaded !\n",
            "\n",
            "[%] Downloading Image #18 from https://media.istockphoto.com/photos/ripe-tomato-in-a-greenhouse-ready-for-picking-picture-id936858616\n",
            "[%] File Downloaded !\n",
            "\n",
            "[%] Downloading Image #19 from http://3.bp.blogspot.com/-n0ia31Hi414/T8KvHhQGEqI/AAAAAAAAHHc/RGx0vQJzTTg/s1600/tomatoes.jpg\n",
            "[%] File Downloaded !\n",
            "\n",
            "[%] Downloading Image #20 from http://tasteandsavor.com/wp-content/uploads/2016/07/IMG_3938-1.jpg\n",
            "[!] Issue getting: http://tasteandsavor.com/wp-content/uploads/2016/07/IMG_3938-1.jpg\n",
            "[!] Error:: Remote end closed connection without response\n",
            "[%] Downloading Image #20 from https://i1.wp.com/s3.amazonaws.com/chiots/wp-content/uploads/2009/07/06084504/First_Ripe_Tomato.jpg?resize=450%2C300&amp;ssl=1\n",
            "[!] Issue getting: https://i1.wp.com/s3.amazonaws.com/chiots/wp-content/uploads/2009/07/06084504/First_Ripe_Tomato.jpg?resize=450%2C300&amp;ssl=1\n",
            "[!] Error:: HTTP Error 404: Not Found\n",
            "[%] Downloading Image #20 from https://www.thecourier.co.uk/wp-content/uploads/sites/12/2017/03/Ripe-red-tomatoes-e1488792993679.jpg\n",
            "[%] File Downloaded !\n",
            "\n",
            "[%] Downloading Image #21 from https://thumbs.dreamstime.com/b/ripe-tomato-branch-growing-vegetables-agriculture-shallow-depth-field-47956186.jpg\n",
            "[%] File Downloaded !\n",
            "\n",
            "[%] Downloading Image #22 from https://producegeek.com/wp-content/uploads/2016/08/organic-vine-ripe-tomatoes-01-940x626@2x.jpg\n",
            "[%] File Downloaded !\n",
            "\n",
            "[%] Downloading Image #23 from https://cdn.harvesttotable.com/htt/2011/08/23173713/bigstock-120916523-scaled.jpg\n",
            "[%] File Downloaded !\n",
            "\n",
            "[%] Downloading Image #24 from http://www.gardenposts.co.uk/wp/wp-content/uploads/2011/09/tomatos-ripening1.jpg\n",
            "[%] File Downloaded !\n",
            "\n",
            "[%] Downloading Image #25 from https://scitechdaily.com/images/Fresh-Tomato.jpg\n",
            "[%] File Downloaded !\n",
            "\n",
            "\n",
            "\n",
            "[!!]Indexing page: 2\n",
            "\n",
            "[%] Indexed 35 Images on Page 2.\n",
            "\n",
            "===============================================\n",
            "\n",
            "[%] Downloading Image #26 from https://images.freeimages.com/images/large-previews/6fd/red-ripe-tomatoes-1317677.jpg\n",
            "[%] File Downloaded !\n",
            "\n",
            "[%] Downloading Image #27 from https://media.sciencephoto.com/image/e7701119/800wm/E7701119-Ripe_tomatoes.jpg\n",
            "[%] File Downloaded !\n",
            "\n",
            "[%] Downloading Image #28 from http://ih2.redbubble.net/image.14484782.9487/flat,800x800,070,f.u1.jpg\n",
            "[%] File Downloaded !\n",
            "\n",
            "[%] Downloading Image #29 from https://cdn.cdkitchen.com/recipes/images/2017/06/7312-7350-mx.jpg\n",
            "[%] File Downloaded !\n",
            "\n",
            "[%] Downloading Image #30 from https://thumbs.dreamstime.com/b/ripe-tomato-plant-growing-greenhouse-tasty-red-heirloom-tomatoes-blurry-background-copy-space-ripe-tomato-plant-growing-123409931.jpg\n",
            "[%] File Downloaded !\n",
            "\n",
            "\n",
            "\n",
            "[%] Done. Downloaded 30 images.\n",
            "time: 14.2 s (started: 2023-02-14 19:18:21 +00:00)\n"
          ]
        }
      ],
      "source": [
        "from bing_image_downloader import downloader\n",
        "downloader.download(\"Ripe tomato \",limit=30,output_dir='images',adult_filter_off=True)"
      ]
    },
    {
      "cell_type": "code",
      "execution_count": null,
      "metadata": {
        "colab": {
          "base_uri": "https://localhost:8080/"
        },
        "id": "2wHLpitgSg2T",
        "outputId": "bd5239a5-957b-4677-c7a0-7be0103ca3ab"
      },
      "outputs": [
        {
          "output_type": "stream",
          "name": "stdout",
          "text": [
            "[%] Downloading Images to /content/images/Unripe tomato \n",
            "\n",
            "\n",
            "[!!]Indexing page: 1\n",
            "\n",
            "[%] Indexed 30 Images on Page 1.\n",
            "\n",
            "===============================================\n",
            "\n",
            "[%] Downloading Image #1 from https://motionarray.imgix.net/preview-790148-OatzRHm7HgxUBIhd-large.jpg?w=1400&amp;q=60&amp;fit=max&amp;auto=format\n",
            "[%] File Downloaded !\n",
            "\n",
            "[%] Downloading Image #2 from http://1.bp.blogspot.com/-8BwpOgsvmqU/Uls8iBDlDcI/AAAAAAAAeSU/TW6P8xLduBE/s1600/unripe+tomato.jpg\n",
            "[%] File Downloaded !\n",
            "\n",
            "[%] Downloading Image #3 from https://images.freeimages.com/images/large-previews/552/unripe-tomatoes-2-1459409.jpg\n",
            "[%] File Downloaded !\n",
            "\n",
            "[%] Downloading Image #4 from http://thumbs.dreamstime.com/z/big-green-unripe-tomato-26726859.jpg\n",
            "[%] File Downloaded !\n",
            "\n",
            "[%] Downloading Image #5 from http://www.hortmag.com/wp-content/uploads/tomatoesredgreen.jpg\n",
            "[%] File Downloaded !\n",
            "\n",
            "[%] Downloading Image #6 from https://media.sciencephoto.com/image/c0092478/800wm/C0092478-Unripe_tomato_fruit.jpg\n",
            "[%] File Downloaded !\n",
            "\n",
            "[%] Downloading Image #7 from https://images.pexels.com/photos/3173577/pexels-photo-3173577.jpeg?auto=compress&amp;cs=tinysrgb&amp;h=750&amp;w=1260\n",
            "[%] File Downloaded !\n",
            "\n",
            "[%] Downloading Image #8 from https://2.bp.blogspot.com/-opKljos7byc/TfKkU2x99vI/AAAAAAAAPp4/Y8i8U-Rn1xM/s1600/unripe+tomato.jpg\n",
            "[%] File Downloaded !\n",
            "\n",
            "[%] Downloading Image #9 from https://thumbs.dreamstime.com/z/green-unripe-tomato-vegetables-growing-garden-high-resolution-photo-full-depth-field-green-unripe-tomato-157631646.jpg\n",
            "[%] File Downloaded !\n",
            "\n",
            "[%] Downloading Image #10 from https://1.bp.blogspot.com/-IcTQNEH6HZU/Uls7vV4NoAI/AAAAAAAAeSI/9onJAAltZ50/s1600/unripe+tomato.jpg\n",
            "[%] File Downloaded !\n",
            "\n",
            "[%] Downloading Image #11 from https://permies.com/t/100056/a/89233/unripe-tomato.jpg\n",
            "[%] File Downloaded !\n",
            "\n",
            "[%] Downloading Image #12 from https://img00.deviantart.net/efc2/i/2009/215/6/2/unripe_tomato_by_jumpforlife.jpg\n",
            "[%] File Downloaded !\n",
            "\n",
            "[%] Downloading Image #13 from https://www.photos-public-domain.com/wp-content/uploads/2011/11/one-ripe-tomato-amongst-many-green-ones.jpg\n",
            "[%] File Downloaded !\n",
            "\n",
            "[%] Downloading Image #14 from https://i1.wp.com/grobigred.com/wp-content/uploads/2019/09/20190925_091406.jpg?fit=1200%2C900&amp;ssl=1\n",
            "[!] Issue getting: https://i1.wp.com/grobigred.com/wp-content/uploads/2019/09/20190925_091406.jpg?fit=1200%2C900&amp;ssl=1\n",
            "[!] Error:: HTTP Error 404: Not Found\n",
            "[%] Downloading Image #14 from https://www.thespruce.com/thmb/p_xNflOU3RcWwfFt2eqWCXsEZ8s=/2121x1414/filters:fill(auto,1)/Greentomatoes-GettyImages-1069200772-5c36b268c9e77c000120d5a7.jpg\n",
            "[%] File Downloaded !\n",
            "\n",
            "[%] Downloading Image #15 from https://www.photos-public-domain.com/wp-content/uploads/2011/11/green-tomatoes.jpg\n",
            "[%] File Downloaded !\n",
            "\n",
            "[%] Downloading Image #16 from https://thumbs.dreamstime.com/b/two-tomatoes-ripe-unripe-11483132.jpg\n",
            "[%] File Downloaded !\n",
            "\n",
            "[%] Downloading Image #17 from https://images.freeimages.com/images/premium/previews/2618/26181409-unripe-tomato.jpg\n",
            "[%] File Downloaded !\n",
            "\n",
            "[%] Downloading Image #18 from https://img.huffingtonpost.com/asset/581a83ec190000a502c3092f.jpeg?ops=crop_0_75_3593_2161,scalefit_630_noupscale\n",
            "[Error]Invalid image, not saving https://img.huffingtonpost.com/asset/581a83ec190000a502c3092f.jpeg?ops=crop_0_75_3593_2161,scalefit_630_noupscale\n",
            "\n",
            "[!] Issue getting: https://img.huffingtonpost.com/asset/581a83ec190000a502c3092f.jpeg?ops=crop_0_75_3593_2161,scalefit_630_noupscale\n",
            "[!] Error:: Invalid image, not saving https://img.huffingtonpost.com/asset/581a83ec190000a502c3092f.jpeg?ops=crop_0_75_3593_2161,scalefit_630_noupscale\n",
            "\n",
            "[%] Downloading Image #18 from https://thumbs.dreamstime.com/b/unripe-tomato-20481919.jpg\n",
            "[%] File Downloaded !\n",
            "\n",
            "[%] Downloading Image #19 from https://thumbs.dreamstime.com/b/two-unripe-tomatoes-sunny-day-closeup-green-tomato-unripe-tomatoes-sunny-day-152923794.jpg\n",
            "[%] File Downloaded !\n",
            "\n",
            "[%] Downloading Image #20 from https://thumbs.dreamstime.com/b/tomatoes-ripe-unripe-both-growing-vine-42686701.jpg\n",
            "[%] File Downloaded !\n",
            "\n",
            "[%] Downloading Image #21 from https://upload.wikimedia.org/wikipedia/commons/thumb/7/73/Unripe_tomatoes.jpg/1280px-Unripe_tomatoes.jpg\n",
            "[%] File Downloaded !\n",
            "\n",
            "[%] Downloading Image #22 from http://1.bp.blogspot.com/-skFxoXs3bg4/Ubsao-r_SyI/AAAAAAAALpA/Y0WIk4r6yYw/s1600/Picture+092.jpg\n",
            "[%] File Downloaded !\n",
            "\n",
            "[%] Downloading Image #23 from https://thumbs.dreamstime.com/b/bunch-unripe-tomatoes-15339059.jpg\n",
            "[%] File Downloaded !\n",
            "\n",
            "[%] Downloading Image #24 from https://c1.peakpx.com/wallpaper/712/301/254/tomatoes-green-vegetable-fruit-wallpaper-preview.jpg\n",
            "[%] File Downloaded !\n",
            "\n",
            "[%] Downloading Image #25 from http://www.weekendnotes.com/im/006/00/tomatoes51.jpg\n",
            "[%] File Downloaded !\n",
            "\n",
            "[%] Downloading Image #26 from https://thumbs.dreamstime.com/b/unripe-tomatoes-green-color-many-unripe-tomatoes-green-color-different-sizes-one-small-red-tomato-wicker-98710640.jpg\n",
            "[%] File Downloaded !\n",
            "\n",
            "[%] Downloading Image #27 from https://thumbs.dreamstime.com/z/unripe-tomato-growing-vine-fresh-organic-tomatoes-greenhouse-148458890.jpg\n",
            "[%] File Downloaded !\n",
            "\n",
            "[%] Downloading Image #28 from https://thumbs.dreamstime.com/b/unripe-tomato-plant-01986.jpg\n",
            "[%] File Downloaded !\n",
            "\n",
            "\n",
            "\n",
            "[!!]Indexing page: 2\n",
            "\n",
            "[%] Indexed 35 Images on Page 2.\n",
            "\n",
            "===============================================\n",
            "\n",
            "[%] Downloading Image #29 from https://thumbs.dreamstime.com/z/one-green-unripe-tomato-flower-leaf-isolated-white-background-77870658.jpg\n",
            "[%] File Downloaded !\n",
            "\n",
            "[%] Downloading Image #30 from https://tomatogeek.com/wp-content/uploads/2021/01/Unripe-green-tomato.jpg\n",
            "[!] Issue getting: https://tomatogeek.com/wp-content/uploads/2021/01/Unripe-green-tomato.jpg\n",
            "[!] Error:: HTTP Error 520: \n",
            "[%] Downloading Image #30 from https://www.mrswages.com/wp-content/uploads/2015/10/Green-Tomatoes-scaled.jpg\n",
            "[%] File Downloaded !\n",
            "\n",
            "\n",
            "\n",
            "[%] Done. Downloaded 30 images.\n",
            "time: 5.48 s (started: 2023-02-14 19:18:41 +00:00)\n"
          ]
        }
      ],
      "source": [
        "from bing_image_downloader import downloader\n",
        "downloader.download(\"Unripe tomato \",limit=30,output_dir='images',adult_filter_off=True)"
      ]
    },
    {
      "cell_type": "code",
      "execution_count": null,
      "metadata": {
        "colab": {
          "base_uri": "https://localhost:8080/"
        },
        "id": "uUZlzWG9CzBa",
        "outputId": "025de679-ca3d-49cf-f88b-d97f7190f78d"
      },
      "outputs": [
        {
          "output_type": "stream",
          "name": "stdout",
          "text": [
            "[%] Downloading Images to /content/images/leaves of non-disease plant \n",
            "\n",
            "\n",
            "[!!]Indexing page: 1\n",
            "\n",
            "[%] Indexed 30 Images on Page 1.\n",
            "\n",
            "===============================================\n",
            "\n",
            "[%] Downloading Image #1 from https://www.agrifarming.in/wp-content/uploads/2019/05/Leaf-Disease..jpg\n",
            "[%] File Downloaded !\n",
            "\n",
            "[%] Downloading Image #2 from https://www.saillog.co/Alert system/pictures for the system/NitrogenDeficiency/image1.jpg\n",
            "[!] Issue getting: https://www.saillog.co/Alert system/pictures for the system/NitrogenDeficiency/image1.jpg\n",
            "[!] Error:: URL can't contain control characters. '/Alert system/pictures for the system/NitrogenDeficiency/image1.jpg' (found at least ' ')\n",
            "[%] Downloading Image #2 from https://extension.psu.edu/media/catalog/product/cache/2/image/9df78eab33525d08d6e5fb8d27136e95/i/m/image_3150.jpg\n",
            "[%] File Downloaded !\n",
            "\n",
            "[%] Downloading Image #3 from https://www.researchgate.net/profile/Stefanie-Doell/publication/308748356/figure/fig1/AS:413773174198275@1475662620850/The-leaves-of-non-infected-and-infected-plants-Neither-type-shows-any-visible-disease.png\n",
            "[!] Issue getting: https://www.researchgate.net/profile/Stefanie-Doell/publication/308748356/figure/fig1/AS:413773174198275@1475662620850/The-leaves-of-non-infected-and-infected-plants-Neither-type-shows-any-visible-disease.png\n",
            "[!] Error:: HTTP Error 403: Forbidden\n",
            "[%] Downloading Image #3 from http://2.bp.blogspot.com/-nh5WphQT2Uk/UZu2JC1WK2I/AAAAAAAAOd4/O1KmtDfCjCc/s640/IMG_2268.jpg\n",
            "[%] File Downloaded !\n",
            "\n",
            "[%] Downloading Image #4 from https://www.420magazine.com/community/attachments/signal-2020-11-22-132225-jpg.2260992/\n",
            "[%] File Downloaded !\n",
            "\n",
            "[%] Downloading Image #5 from http://allthingsplants.com/pics/2013-02-08/zuzu/e6d528.jpg\n",
            "[!] Issue getting: http://allthingsplants.com/pics/2013-02-08/zuzu/e6d528.jpg\n",
            "[!] Error:: HTTP Error 403: Forbidden\n",
            "[%] Downloading Image #5 from https://1.bp.blogspot.com/_5jwRV21LgNg/TVEF8E7tArI/AAAAAAAAA3c/6lfwe6Ox8zQ/s1600/Picture1.png\n",
            "[%] File Downloaded !\n",
            "\n",
            "[%] Downloading Image #6 from https://1.bp.blogspot.com/_5jwRV21LgNg/TVEGDhxp1rI/AAAAAAAAA3g/OPxB5QEHYfo/s1600/Picture2.png\n",
            "[%] File Downloaded !\n",
            "\n",
            "[%] Downloading Image #7 from https://media.istockphoto.com/photos/leaves-of-the-plant-disease-picture-id487359570\n",
            "[%] File Downloaded !\n",
            "\n",
            "[%] Downloading Image #8 from http://plantclinic.cornell.edu/features/featureimages/August2013/BLSelmlg.jpg\n",
            "[%] File Downloaded !\n",
            "\n",
            "[%] Downloading Image #9 from http://2.bp.blogspot.com/-U5tNVyUH8To/T57fxwvPyQI/AAAAAAAAAOk/-yXQ8K_i6vY/s1600/IMG_0873.JPG\n",
            "[%] File Downloaded !\n",
            "\n",
            "[%] Downloading Image #10 from http://3.bp.blogspot.com/-3pW0Mub9hgU/TsQWfwHPezI/AAAAAAAAAJs/blOKrpUy3W8/s1600/Image_27.jpg\n",
            "[%] File Downloaded !\n",
            "\n",
            "[%] Downloading Image #11 from https://2.bp.blogspot.com/-Hflkd9Vqoog/UF14aPXogsI/AAAAAAAAAIU/UbemxYgJvhI/s1600/Leaves+after+disease02.jpg\n",
            "[%] File Downloaded !\n",
            "\n",
            "[%] Downloading Image #12 from https://www.kiwicare.co.nz/assets/blogimages/Disease-Leaf.jpg\n",
            "[%] File Downloaded !\n",
            "\n",
            "[%] Downloading Image #13 from http://frasersouthrhodos.ca/images/page9-6.jpg\n",
            "[%] File Downloaded !\n",
            "\n",
            "[%] Downloading Image #14 from https://thumbs.dreamstime.com/b/plant-disease-fungal-leaves-spot-disease-rose-bush-causes-damage-blight-aphid-mushroom-marsonia-chlorosis-powdery-mildew-125455110.jpg\n",
            "[%] File Downloaded !\n",
            "\n",
            "[%] Downloading Image #15 from https://pics.davesgarden.com/pics/2010/05/16/3baddogs/99c079.jpg\n",
            "[%] File Downloaded !\n",
            "\n",
            "[%] Downloading Image #16 from https://bostongardener.weebly.com/uploads/1/3/4/4/13446680/2845331_orig.jpg\n",
            "[%] File Downloaded !\n",
            "\n",
            "[%] Downloading Image #17 from https://cdn.insteading.com/wp-content/uploads/2017/11/14939312972_8bac67ce8e_k.jpg\n",
            "[%] File Downloaded !\n",
            "\n",
            "[%] Downloading Image #18 from http://www.naturallivingideas.com/wp-content/uploads/2017/03/common-plant-diseases.jpg\n",
            "[%] File Downloaded !\n",
            "\n",
            "[%] Downloading Image #19 from http://keys.lucidcentral.org/keys/sweetpotato/key/Sweetpotato Diagnotes/Media/Html/TheProblems/MineralDeficiencies/NitrogenDeficiency/N defic-LSU-Leyte2-JOS.jpg\n",
            "[!] Issue getting: http://keys.lucidcentral.org/keys/sweetpotato/key/Sweetpotato Diagnotes/Media/Html/TheProblems/MineralDeficiencies/NitrogenDeficiency/N defic-LSU-Leyte2-JOS.jpg\n",
            "[!] Error:: URL can't contain control characters. '/keys/sweetpotato/key/Sweetpotato Diagnotes/Media/Html/TheProblems/MineralDeficiencies/NitrogenDeficiency/N defic-LSU-Leyte2-JOS.jpg' (found at least ' ')\n",
            "[%] Downloading Image #19 from http://frasersouthrhodos.ca/images/page9-7.jpg\n",
            "[%] File Downloaded !\n",
            "\n",
            "[%] Downloading Image #20 from https://thumbs.dreamstime.com/b/plumeria-leaves-disease-rust-fungi-plant-100851594.jpg\n",
            "[%] File Downloaded !\n",
            "\n",
            "[%] Downloading Image #21 from https://pixabay.com/static/uploads/photo/2015/04/25/15/59/leaves-739286_960_720.jpg\n",
            "[%] File Downloaded !\n",
            "\n",
            "[%] Downloading Image #22 from https://www.missouribotanicalgarden.org/Portals/0/Gardening/Gardening Help/images/Pests/Pest2726.jpg\n",
            "[!] Issue getting: https://www.missouribotanicalgarden.org/Portals/0/Gardening/Gardening Help/images/Pests/Pest2726.jpg\n",
            "[!] Error:: URL can't contain control characters. '/Portals/0/Gardening/Gardening Help/images/Pests/Pest2726.jpg' (found at least ' ')\n",
            "[%] Downloading Image #22 from http://www.icmag.com/gallery/data/500/15751102_1092.jpg\n",
            "[%] File Downloaded !\n",
            "\n",
            "[%] Downloading Image #23 from https://i.redd.it/enqupun9d1l21.jpg\n",
            "[%] File Downloaded !\n",
            "\n",
            "[%] Downloading Image #24 from http://www.gardenanswers.com/wp-content/uploads/2015/12/4636273834721280.jpeg\n",
            "[%] File Downloaded !\n",
            "\n",
            "[%] Downloading Image #25 from https://thumbs.dreamstime.com/z/plant-disease-wild-plant-leaves-plant-disease-wild-plant-leaves-leaves-mosaic-156990388.jpg\n",
            "[%] File Downloaded !\n",
            "\n",
            "\n",
            "\n",
            "[!!]Indexing page: 2\n",
            "\n",
            "[%] Indexed 35 Images on Page 2.\n",
            "\n",
            "===============================================\n",
            "\n",
            "[%] Downloading Image #26 from http://nyackcommunitygarden.info/images/DSCN8065_large_450x337.jpg\n",
            "[%] File Downloaded !\n",
            "\n",
            "[%] Downloading Image #27 from https://upload.wikimedia.org/wikipedia/commons/5/52/Plant_leaves_green.jpg\n",
            "[%] File Downloaded !\n",
            "\n",
            "[%] Downloading Image #28 from https://www.420magazine.com/gallery/data/500/DSCN07231.JPG\n",
            "[%] File Downloaded !\n",
            "\n",
            "[%] Downloading Image #29 from http://ctcritools.in/cassavaexpert/img/N def.JPG\n",
            "[!] Issue getting: http://ctcritools.in/cassavaexpert/img/N def.JPG\n",
            "[!] Error:: URL can't contain control characters. '/cassavaexpert/img/N def.JPG' (found at least ' ')\n",
            "[%] Downloading Image #29 from https://www.420magazine.com/community/attachments/bb1f5e58-d087-4b57-844b-a332c95b215f-jpeg.2287572/\n",
            "[%] File Downloaded !\n",
            "\n",
            "\n",
            "\n",
            "[!!]Indexing page: 3\n",
            "\n",
            "[%] Indexed 30 Images on Page 3.\n",
            "\n",
            "===============================================\n",
            "\n",
            "\n",
            "\n",
            "[!!]Indexing page: 4\n",
            "\n",
            "[%] Indexed 30 Images on Page 4.\n",
            "\n",
            "===============================================\n",
            "\n",
            "[%] Downloading Image #30 from https://www.agrifarming.in/wp-content/uploads/2019/05/Leaf-Disease.-300x225.jpg\n",
            "[%] File Downloaded !\n",
            "\n",
            "\n",
            "\n",
            "[%] Done. Downloaded 30 images.\n",
            "time: 9.26 s (started: 2023-02-14 19:19:02 +00:00)\n"
          ]
        }
      ],
      "source": [
        "from bing_image_downloader import downloader\n",
        "downloader.download(\"leaves of non-disease plant \",limit=30,output_dir='images',adult_filter_off=True)"
      ]
    },
    {
      "cell_type": "code",
      "execution_count": null,
      "metadata": {
        "colab": {
          "base_uri": "https://localhost:8080/"
        },
        "id": "HD_icd16CzF7",
        "outputId": "b2df5d6c-10d5-48ee-ace8-0da9b2092ac2"
      },
      "outputs": [
        {
          "output_type": "execute_result",
          "data": {
            "text/plain": [
              "2"
            ]
          },
          "metadata": {},
          "execution_count": 95
        },
        {
          "output_type": "stream",
          "name": "stdout",
          "text": [
            "time: 13 ms (started: 2023-02-14 19:20:07 +00:00)\n"
          ]
        }
      ],
      "source": [
        "import numpy as np\n",
        "\n",
        "a = np.array([[1,2,3,4,5],\n",
        "              [4,5,6,7,8]])\n",
        "a.ndim"
      ]
    },
    {
      "cell_type": "code",
      "execution_count": null,
      "metadata": {
        "colab": {
          "base_uri": "https://localhost:8080/"
        },
        "id": "-oiivA7TCzJn",
        "outputId": "1879c620-45f5-41bb-ac6d-de99b60ee116"
      },
      "outputs": [
        {
          "output_type": "execute_result",
          "data": {
            "text/plain": [
              "array([1, 2, 3, 4, 5, 4, 5, 6, 7, 8])"
            ]
          },
          "metadata": {},
          "execution_count": 96
        },
        {
          "output_type": "stream",
          "name": "stdout",
          "text": [
            "time: 3.33 ms (started: 2023-02-14 19:20:10 +00:00)\n"
          ]
        }
      ],
      "source": [
        "a.flatten()"
      ]
    },
    {
      "cell_type": "code",
      "execution_count": null,
      "metadata": {
        "colab": {
          "base_uri": "https://localhost:8080/"
        },
        "id": "_LfHTinRCzOq",
        "outputId": "2ddaed27-28b3-4a80-f3a1-98a19f0d950f"
      },
      "outputs": [
        {
          "output_type": "stream",
          "name": "stdout",
          "text": [
            "time: 51.4 s (started: 2023-02-14 19:25:41 +00:00)\n"
          ]
        }
      ],
      "source": [
        "import os\n",
        "import matplotlib.pyplot as plt\n",
        "import numpy as np\n",
        "from skimage.io import imread\n",
        "from skimage.transform import resize\n",
        "\n",
        "target = []\n",
        "images = []\n",
        "flat_data = []\n",
        "\n",
        "DATADIR = '/content/images'\n",
        "CATEGORIES = ['diseased plant leaves' , 'leaves of non-disease plant ' , 'Unripe tomato ' , 'Ripe tomato ']\n",
        "\n",
        "\n",
        "for category in CATEGORIES:\n",
        " class_num = CATEGORIES.index(category)\n",
        " path = os.path.join(DATADIR , category)\n",
        " for img in os.listdir(path):\n",
        "      img_array = imread(os.path.join(path, img))\n",
        "      #print(img_array.shape)\n",
        "      #plt.imshow(img_array)\n",
        "      img_resized = resize(img_array,(150,150,3))\n",
        "      flat_data.append(img_resized.flatten())\n",
        "      images.append(img_resized)\n",
        "      target.append(class_num)\n",
        "\n",
        "flat_data = np.array(flat_data)    \n",
        "target = np.array(target)\n",
        "images = np.array(images)"
      ]
    },
    {
      "cell_type": "code",
      "execution_count": null,
      "metadata": {
        "colab": {
          "base_uri": "https://localhost:8080/"
        },
        "id": "EQV5kojTCzS5",
        "outputId": "3952842e-ffc1-4043-c6ed-95f8f1894d6d"
      },
      "outputs": [
        {
          "output_type": "execute_result",
          "data": {
            "text/plain": [
              "67500"
            ]
          },
          "metadata": {},
          "execution_count": 106
        },
        {
          "output_type": "stream",
          "name": "stdout",
          "text": [
            "time: 3.15 ms (started: 2023-02-14 19:27:30 +00:00)\n"
          ]
        }
      ],
      "source": [
        "len(flat_data[0])"
      ]
    },
    {
      "cell_type": "code",
      "execution_count": null,
      "metadata": {
        "colab": {
          "base_uri": "https://localhost:8080/"
        },
        "id": "rZ4NYAJwCzWw",
        "outputId": "22f32680-6c72-4083-a4a1-238f8677f94f"
      },
      "outputs": [
        {
          "output_type": "execute_result",
          "data": {
            "text/plain": [
              "67500"
            ]
          },
          "metadata": {},
          "execution_count": 108
        },
        {
          "output_type": "stream",
          "name": "stdout",
          "text": [
            "time: 2.62 ms (started: 2023-02-14 19:27:50 +00:00)\n"
          ]
        }
      ],
      "source": [
        "150*150*3"
      ]
    },
    {
      "cell_type": "code",
      "execution_count": null,
      "metadata": {
        "colab": {
          "base_uri": "https://localhost:8080/"
        },
        "id": "ajfHqCipCzah",
        "outputId": "216fab87-0a8a-4e7b-d70b-0ddb07647c4d"
      },
      "outputs": [
        {
          "output_type": "execute_result",
          "data": {
            "text/plain": [
              "array([0, 0, 0, 0, 0, 0, 0, 0, 0, 0, 0, 0, 0, 0, 0, 0, 0, 0, 0, 0, 0, 0,\n",
              "       0, 0, 0, 0, 0, 0, 0, 0, 1, 1, 1, 1, 1, 1, 1, 1, 1, 1, 1, 1, 1, 1,\n",
              "       1, 1, 1, 1, 1, 1, 1, 1, 1, 1, 1, 1, 1, 1, 1, 1, 2, 2, 2, 2, 2, 2,\n",
              "       2, 2, 2, 2, 2, 2, 2, 2, 2, 2, 2, 2, 2, 2, 2, 2, 2, 2, 2, 2, 2, 2,\n",
              "       2, 2, 3, 3, 3, 3, 3, 3, 3, 3, 3, 3, 3, 3, 3, 3, 3, 3, 3, 3, 3, 3,\n",
              "       3, 3, 3, 3, 3, 3, 3, 3, 3, 3])"
            ]
          },
          "metadata": {},
          "execution_count": 109
        },
        {
          "output_type": "stream",
          "name": "stdout",
          "text": [
            "time: 3.47 ms (started: 2023-02-14 19:28:00 +00:00)\n"
          ]
        }
      ],
      "source": [
        "target"
      ]
    },
    {
      "cell_type": "code",
      "execution_count": null,
      "metadata": {
        "colab": {
          "base_uri": "https://localhost:8080/"
        },
        "id": "GPJR9pMoCzfP",
        "outputId": "7bc92eb0-3e6f-4b4b-ebea-4fd7b4c19085"
      },
      "outputs": [
        {
          "output_type": "execute_result",
          "data": {
            "text/plain": [
              "(array([0, 1, 2, 3]), array([30, 30, 30, 30]))"
            ]
          },
          "metadata": {},
          "execution_count": 110
        },
        {
          "output_type": "stream",
          "name": "stdout",
          "text": [
            "time: 3.16 ms (started: 2023-02-14 19:28:07 +00:00)\n"
          ]
        }
      ],
      "source": [
        "np.unique(target,return_counts=True)"
      ]
    },
    {
      "cell_type": "code",
      "execution_count": null,
      "metadata": {
        "colab": {
          "base_uri": "https://localhost:8080/",
          "height": 300
        },
        "id": "1zVzownRHcNd",
        "outputId": "c0c4a004-8fcd-4510-9766-d8db3b76b2a5"
      },
      "outputs": [
        {
          "output_type": "execute_result",
          "data": {
            "text/plain": [
              "<BarContainer object of 4 artists>"
            ]
          },
          "metadata": {},
          "execution_count": 111
        },
        {
          "output_type": "display_data",
          "data": {
            "text/plain": [
              "<Figure size 432x288 with 1 Axes>"
            ],
            "image/png": "[encoded data removed]"
          },
          "metadata": {
            "needs_background": "light"
          }
        },
        {
          "output_type": "stream",
          "name": "stdout",
          "text": [
            "time: 111 ms (started: 2023-02-14 19:28:11 +00:00)\n"
          ]
        }
      ],
      "source": [
        "unique,count = np.unique(target,return_counts=True)\n",
        "plt.bar(CATEGORIES,count)"
      ]
    },
    {
      "cell_type": "code",
      "execution_count": null,
      "metadata": {
        "colab": {
          "base_uri": "https://localhost:8080/"
        },
        "id": "7g4HeUt_HcRt",
        "outputId": "31a887c5-a86e-4f97-9c28-42bb495f7815"
      },
      "outputs": [
        {
          "output_type": "stream",
          "name": "stdout",
          "text": [
            "time: 10.6 ms (started: 2023-02-14 19:28:19 +00:00)\n"
          ]
        }
      ],
      "source": [
        "#split data into Training and Testing\n",
        "from sklearn.model_selection import train_test_split\n",
        "x_train,x_test,y_train,y_test = train_test_split(flat_data,target,\n",
        "                                  test_size=0.3,random_state=109)"
      ]
    },
    {
      "cell_type": "code",
      "execution_count": null,
      "metadata": {
        "colab": {
          "base_uri": "https://localhost:8080/"
        },
        "id": "xvy1dsHjHcWc",
        "outputId": "3247d688-f638-44e2-900e-255e32d891bc"
      },
      "outputs": [
        {
          "output_type": "execute_result",
          "data": {
            "text/plain": [
              "GridSearchCV(estimator=SVC(probability=True),\n",
              "             param_grid=[{'C': [1, 10, 100, 1000], 'kernel': ['linear']},\n",
              "                         {'C': [1, 10, 100, 1000], 'gamma': [0.001, 0.0001],\n",
              "                          'kernel': ['rbf']}])"
            ]
          },
          "metadata": {},
          "execution_count": 113
        },
        {
          "output_type": "stream",
          "name": "stdout",
          "text": [
            "time: 1min 2s (started: 2023-02-14 19:28:24 +00:00)\n"
          ]
        }
      ],
      "source": [
        "from sklearn.model_selection import GridSearchCV\n",
        "from sklearn import svm\n",
        "param_grid = [\n",
        "              {'C':[1,10,100,1000],'kernel':['linear']},\n",
        "              {'C':[1,10,100,1000],'gamma':[0.001,0.0001],'kernel':['rbf']},  \n",
        "]\n",
        "\n",
        "svc = svm.SVC(probability=True)\n",
        "clf = GridSearchCV(svc,param_grid)\n",
        "clf.fit(x_train,y_train)"
      ]
    },
    {
      "cell_type": "code",
      "execution_count": null,
      "metadata": {
        "colab": {
          "base_uri": "https://localhost:8080/"
        },
        "id": "8gwG2sugHcaq",
        "outputId": "1941abb5-f688-497e-e2d8-680a0a67c7b8"
      },
      "outputs": [
        {
          "output_type": "execute_result",
          "data": {
            "text/plain": [
              "array([0, 0, 3, 2, 2, 1, 0, 3, 0, 1, 1, 0, 0, 2, 3, 0, 1, 2, 0, 0, 2, 0,\n",
              "       3, 0, 1, 0, 2, 2, 3, 0, 0, 3, 0, 2, 3, 1])"
            ]
          },
          "metadata": {},
          "execution_count": 114
        },
        {
          "output_type": "stream",
          "name": "stdout",
          "text": [
            "time: 212 ms (started: 2023-02-14 19:29:34 +00:00)\n"
          ]
        }
      ],
      "source": [
        "y_pred = clf.predict(x_test)\n",
        "y_pred"
      ]
    },
    {
      "cell_type": "code",
      "execution_count": null,
      "metadata": {
        "colab": {
          "base_uri": "https://localhost:8080/"
        },
        "id": "VP4RIwm7Hceo",
        "outputId": "51453149-648c-435d-d868-cfa7f42405c3"
      },
      "outputs": [
        {
          "output_type": "execute_result",
          "data": {
            "text/plain": [
              "array([0, 2, 3, 1, 3, 0, 0, 3, 2, 3, 1, 3, 0, 2, 3, 0, 1, 2, 0, 2, 1, 1,\n",
              "       3, 1, 1, 0, 3, 2, 3, 1, 2, 1, 2, 2, 3, 0])"
            ]
          },
          "metadata": {},
          "execution_count": 115
        },
        {
          "output_type": "stream",
          "name": "stdout",
          "text": [
            "time: 3.22 ms (started: 2023-02-14 19:29:38 +00:00)\n"
          ]
        }
      ],
      "source": [
        "y_test"
      ]
    },
    {
      "cell_type": "code",
      "execution_count": null,
      "metadata": {
        "colab": {
          "base_uri": "https://localhost:8080/"
        },
        "id": "goJSgdMeHciX",
        "outputId": "6dd6a677-08ab-45c7-e270-5e1d72d9b468"
      },
      "outputs": [
        {
          "output_type": "stream",
          "name": "stdout",
          "text": [
            "time: 476 µs (started: 2023-02-14 19:29:41 +00:00)\n"
          ]
        }
      ],
      "source": [
        "from sklearn.metrics import accuracy_score,confusion_matrix"
      ]
    },
    {
      "cell_type": "code",
      "execution_count": null,
      "metadata": {
        "colab": {
          "base_uri": "https://localhost:8080/"
        },
        "id": "EY6cUjm_HcqO",
        "outputId": "bae4517f-03ec-415f-ec65-a601897e91d2"
      },
      "outputs": [
        {
          "output_type": "execute_result",
          "data": {
            "text/plain": [
              "0.5277777777777778"
            ]
          },
          "metadata": {},
          "execution_count": 117
        },
        {
          "output_type": "stream",
          "name": "stdout",
          "text": [
            "time: 3.55 ms (started: 2023-02-14 19:29:47 +00:00)\n"
          ]
        }
      ],
      "source": [
        "accuracy_score(y_pred,y_test)"
      ]
    },
    {
      "cell_type": "code",
      "execution_count": null,
      "metadata": {
        "colab": {
          "base_uri": "https://localhost:8080/"
        },
        "id": "VTFShQw5HcuE",
        "outputId": "5d8eec62-27ad-49de-9606-d53aa0946b08"
      },
      "outputs": [
        {
          "output_type": "execute_result",
          "data": {
            "text/plain": [
              "array([[6, 3, 5, 1],\n",
              "       [2, 3, 0, 1],\n",
              "       [0, 2, 4, 2],\n",
              "       [0, 1, 0, 6]])"
            ]
          },
          "metadata": {},
          "execution_count": 118
        },
        {
          "output_type": "stream",
          "name": "stdout",
          "text": [
            "time: 6.49 ms (started: 2023-02-14 19:29:51 +00:00)\n"
          ]
        }
      ],
      "source": [
        "confusion_matrix(y_pred,y_test)"
      ]
    },
    {
      "cell_type": "code",
      "execution_count": null,
      "metadata": {
        "colab": {
          "base_uri": "https://localhost:8080/"
        },
        "id": "YJAoAcUlIKGz",
        "outputId": "e1be90fe-3470-4495-c483-ea463cad2a34"
      },
      "outputs": [
        {
          "output_type": "stream",
          "name": "stdout",
          "text": [
            "time: 78 ms (started: 2023-02-14 19:30:01 +00:00)\n"
          ]
        }
      ],
      "source": [
        "import pickle\n",
        "pickle.dump(clf,open('img_model.p','wb'))"
      ]
    },
    {
      "cell_type": "code",
      "execution_count": null,
      "metadata": {
        "colab": {
          "base_uri": "https://localhost:8080/"
        },
        "id": "iDEquxSGIKK-",
        "outputId": "bfa98c8c-9fdb-4c1f-8772-7755dcd62adb"
      },
      "outputs": [
        {
          "output_type": "stream",
          "name": "stdout",
          "text": [
            "time: 30.9 ms (started: 2023-02-14 19:30:06 +00:00)\n"
          ]
        }
      ],
      "source": [
        "model = pickle.load(open('img_model.p','rb'))"
      ]
    },
    {
      "cell_type": "code",
      "execution_count": null,
      "metadata": {
        "colab": {
          "base_uri": "https://localhost:8080/",
          "height": 338
        },
        "id": "3sb8ToVkIKPJ",
        "outputId": "84452fbd-83ca-44c9-bdf3-4f42c975f119"
      },
      "outputs": [
        {
          "output_type": "stream",
          "name": "stdout",
          "text": [
            "Enter your URLhttp://nyackcommunitygarden.info/images/DSCN8065_large_450x337.jpg \n",
            "(337, 450, 3)\n",
            "PREDICTED OUTPUT:diseased plant leaves\n"
          ]
        },
        {
          "output_type": "display_data",
          "data": {
            "text/plain": [
              "<Figure size 432x288 with 1 Axes>"
            ],
            "image/png": "[encoded data removed]"
          },
          "metadata": {
            "needs_background": "light"
          }
        },
        {
          "output_type": "stream",
          "name": "stdout",
          "text": [
            "time: 41.7 s (started: 2023-02-14 19:30:12 +00:00)\n"
          ]
        }
      ],
      "source": [
        "flat_data = []\n",
        "url = input('Enter your URL')\n",
        "img = imread(url)\n",
        "img_resized = resize(img,(150,150,3))\n",
        "flat_data.append(img_resized.flatten())\n",
        "flat_data = np.array(flat_data)\n",
        "print(img.shape)\n",
        "plt.imshow(img_resized)\n",
        "y_out = model.predict(flat_data)\n",
        "y_out = CATEGORIES[y_out[0]]\n",
        "print(f'PREDICTED OUTPUT:{y_out}')"
      ]
    },
    {
      "cell_type": "code",
      "execution_count": null,
      "metadata": {
        "colab": {
          "base_uri": "https://localhost:8080/"
        },
        "id": "_ED2dGo1IKVs",
        "outputId": "df3f73ee-a3ec-4522-e5a2-5c14a5766b3d"
      },
      "outputs": [
        {
          "output_type": "stream",
          "name": "stdout",
          "text": [
            "Looking in indexes: https://pypi.org/simple, https://us-python.pkg.dev/colab-wheels/public/simple/\n",
            "Requirement already satisfied: streamlit in /usr/local/lib/python3.8/dist-packages (1.18.1)\n",
            "Requirement already satisfied: rich>=10.11.0 in /usr/local/lib/python3.8/dist-packages (from streamlit) (13.3.1)\n",
            "Requirement already satisfied: watchdog in /usr/local/lib/python3.8/dist-packages (from streamlit) (2.2.1)\n",
            "Requirement already satisfied: pympler>=0.9 in /usr/local/lib/python3.8/dist-packages (from streamlit) (1.0.1)\n",
            "Requirement already satisfied: altair>=3.2.0 in /usr/local/lib/python3.8/dist-packages (from streamlit) (4.2.2)\n",
            "Requirement already satisfied: pydeck>=0.1.dev5 in /usr/local/lib/python3.8/dist-packages (from streamlit) (0.8.0)\n",
            "Requirement already satisfied: protobuf<4,>=3.12 in /usr/local/lib/python3.8/dist-packages (from streamlit) (3.19.6)\n",
            "Requirement already satisfied: numpy in /usr/local/lib/python3.8/dist-packages (from streamlit) (1.21.6)\n",
            "Requirement already satisfied: tzlocal>=1.1 in /usr/local/lib/python3.8/dist-packages (from streamlit) (1.5.1)\n",
            "Requirement already satisfied: click>=7.0 in /usr/local/lib/python3.8/dist-packages (from streamlit) (7.1.2)\n",
            "Requirement already satisfied: pyarrow>=4.0 in /usr/local/lib/python3.8/dist-packages (from streamlit) (9.0.0)\n",
            "Requirement already satisfied: typing-extensions>=3.10.0.0 in /usr/local/lib/python3.8/dist-packages (from streamlit) (4.4.0)\n",
            "Requirement already satisfied: python-dateutil in /usr/local/lib/python3.8/dist-packages (from streamlit) (2.8.2)\n",
            "Requirement already satisfied: cachetools>=4.0 in /usr/local/lib/python3.8/dist-packages (from streamlit) (5.3.0)\n",
            "Requirement already satisfied: toml in /usr/local/lib/python3.8/dist-packages (from streamlit) (0.10.2)\n",
            "Requirement already satisfied: validators>=0.2 in /usr/local/lib/python3.8/dist-packages (from streamlit) (0.20.0)\n",
            "Requirement already satisfied: tornado>=6.0.3 in /usr/local/lib/python3.8/dist-packages (from streamlit) (6.0.4)\n",
            "Requirement already satisfied: requests>=2.4 in /usr/local/lib/python3.8/dist-packages (from streamlit) (2.25.1)\n",
            "Requirement already satisfied: semver in /usr/local/lib/python3.8/dist-packages (from streamlit) (2.13.0)\n",
            "Requirement already satisfied: importlib-metadata>=1.4 in /usr/local/lib/python3.8/dist-packages (from streamlit) (6.0.0)\n",
            "Requirement already satisfied: packaging>=14.1 in /usr/local/lib/python3.8/dist-packages (from streamlit) (23.0)\n",
            "Requirement already satisfied: gitpython!=3.1.19 in /usr/local/lib/python3.8/dist-packages (from streamlit) (3.1.30)\n",
            "Requirement already satisfied: pillow>=6.2.0 in /usr/local/lib/python3.8/dist-packages (from streamlit) (7.1.2)\n",
            "Requirement already satisfied: blinker>=1.0.0 in /usr/local/lib/python3.8/dist-packages (from streamlit) (1.5)\n",
            "Requirement already satisfied: pandas>=0.25 in /usr/local/lib/python3.8/dist-packages (from streamlit) (1.3.5)\n",
            "Requirement already satisfied: jinja2 in /usr/local/lib/python3.8/dist-packages (from altair>=3.2.0->streamlit) (2.11.3)\n",
            "Requirement already satisfied: toolz in /usr/local/lib/python3.8/dist-packages (from altair>=3.2.0->streamlit) (0.12.0)\n",
            "Requirement already satisfied: entrypoints in /usr/local/lib/python3.8/dist-packages (from altair>=3.2.0->streamlit) (0.4)\n",
            "Requirement already satisfied: jsonschema>=3.0 in /usr/local/lib/python3.8/dist-packages (from altair>=3.2.0->streamlit) (4.3.3)\n",
            "Requirement already satisfied: gitdb<5,>=4.0.1 in /usr/local/lib/python3.8/dist-packages (from gitpython!=3.1.19->streamlit) (4.0.10)\n",
            "Requirement already satisfied: zipp>=0.5 in /usr/local/lib/python3.8/dist-packages (from importlib-metadata>=1.4->streamlit) (3.12.1)\n",
            "Requirement already satisfied: pytz>=2017.3 in /usr/local/lib/python3.8/dist-packages (from pandas>=0.25->streamlit) (2022.7.1)\n",
            "Requirement already satisfied: six>=1.5 in /usr/local/lib/python3.8/dist-packages (from python-dateutil->streamlit) (1.15.0)\n",
            "Requirement already satisfied: idna<3,>=2.5 in /usr/local/lib/python3.8/dist-packages (from requests>=2.4->streamlit) (2.10)\n",
            "Requirement already satisfied: chardet<5,>=3.0.2 in /usr/local/lib/python3.8/dist-packages (from requests>=2.4->streamlit) (4.0.0)\n",
            "Requirement already satisfied: urllib3<1.27,>=1.21.1 in /usr/local/lib/python3.8/dist-packages (from requests>=2.4->streamlit) (1.24.3)\n",
            "Requirement already satisfied: certifi>=2017.4.17 in /usr/local/lib/python3.8/dist-packages (from requests>=2.4->streamlit) (2022.12.7)\n",
            "Requirement already satisfied: markdown-it-py<3.0.0,>=2.1.0 in /usr/local/lib/python3.8/dist-packages (from rich>=10.11.0->streamlit) (2.1.0)\n",
            "Requirement already satisfied: pygments<3.0.0,>=2.14.0 in /usr/local/lib/python3.8/dist-packages (from rich>=10.11.0->streamlit) (2.14.0)\n",
            "Requirement already satisfied: decorator>=3.4.0 in /usr/local/lib/python3.8/dist-packages (from validators>=0.2->streamlit) (4.4.2)\n",
            "Requirement already satisfied: smmap<6,>=3.0.1 in /usr/local/lib/python3.8/dist-packages (from gitdb<5,>=4.0.1->gitpython!=3.1.19->streamlit) (5.0.0)\n",
            "Requirement already satisfied: MarkupSafe>=0.23 in /usr/local/lib/python3.8/dist-packages (from jinja2->altair>=3.2.0->streamlit) (2.0.1)\n",
            "Requirement already satisfied: pyrsistent!=0.17.0,!=0.17.1,!=0.17.2,>=0.14.0 in /usr/local/lib/python3.8/dist-packages (from jsonschema>=3.0->altair>=3.2.0->streamlit) (0.19.3)\n",
            "Requirement already satisfied: attrs>=17.4.0 in /usr/local/lib/python3.8/dist-packages (from jsonschema>=3.0->altair>=3.2.0->streamlit) (22.2.0)\n",
            "Requirement already satisfied: importlib-resources>=1.4.0 in /usr/local/lib/python3.8/dist-packages (from jsonschema>=3.0->altair>=3.2.0->streamlit) (5.10.2)\n",
            "Requirement already satisfied: mdurl~=0.1 in /usr/local/lib/python3.8/dist-packages (from markdown-it-py<3.0.0,>=2.1.0->rich>=10.11.0->streamlit) (0.1.2)\n",
            "Looking in indexes: https://pypi.org/simple, https://us-python.pkg.dev/colab-wheels/public/simple/\n",
            "Requirement already satisfied: pyngrok in /usr/local/lib/python3.8/dist-packages (5.2.1)\n",
            "Requirement already satisfied: PyYAML in /usr/local/lib/python3.8/dist-packages (from pyngrok) (6.0)\n",
            "time: 11.1 s (started: 2023-02-14 19:31:34 +00:00)\n"
          ]
        }
      ],
      "source": [
        "!pip install streamlit \n",
        "\n",
        "!pip install pyngrok\n",
        "from pyngrok import ngrok"
      ]
    },
    {
      "cell_type": "code",
      "execution_count": null,
      "metadata": {
        "colab": {
          "base_uri": "https://localhost:8080/"
        },
        "id": "Sn6nP6uGIKaE",
        "outputId": "a98da352-1e44-401d-98f4-dea0404b474c"
      },
      "outputs": [
        {
          "output_type": "stream",
          "name": "stdout",
          "text": [
            "Writing app.py\n",
            "time: 2.47 ms (started: 2023-02-14 19:31:50 +00:00)\n"
          ]
        }
      ],
      "source": [
        "%%writefile app.py\n",
        "import streamlit as st\n",
        "import numpy as np\n",
        "from skimage.io import imread\n",
        "from skimage.transform import resize\n",
        "import pickle\n",
        "from PIL import Image\n",
        "st.set_option('deprecation.showfileUploaderEncoding', False)\n",
        "st.title('Image Classifier using machine learning25')\n",
        "st.text('Upload the Image')\n",
        "model = pickle.load(open('img_model.p','rb'))\n",
        "\n",
        "Uploaded_file = st.file_uploader(\"Choose an image...\" )\n",
        "if Uploaded_file is not None:\n",
        "  img = Image.open(Uploaded_file) \n",
        "  st.image(img,caption='Uploaded Image')\n",
        " \n",
        "\n",
        "if st.button('predict'):\n",
        " CATEGORIES = ['مريضة' , 'غير مريضة ' , 'بندورة غير ناضجة ' , 'بندورة ناضجة ']\n",
        " st.write('Result...')\n",
        " flat_data=[]\n",
        " img = np.array(img)\n",
        " img_resized = resize(img,(150,150,3))\n",
        " flat_data.append(img_resized.flatten())\n",
        " flat_data = np.array(flat_data)\n",
        " y_out = model.predict(flat_data)\n",
        " y_out = CATEGORIES[y_out[0]]\n",
        " st.title(f'PREDICTED OUTPUT:{y_out}')"
      ]
    },
    {
      "cell_type": "code",
      "execution_count": null,
      "metadata": {
        "colab": {
          "base_uri": "https://localhost:8080/"
        },
        "id": "dm4qR_Q7IKfg",
        "outputId": "83bea393-2e77-4626-ec66-d3c22608badb"
      },
      "outputs": [
        {
          "output_type": "stream",
          "name": "stdout",
          "text": [
            "[##................] - fetchMetadata: sill resolveWithNewModule yargs-parser@20\u001b[0m\u001b[K\n",
            "Collecting usage statistics. To deactivate, set browser.gatherUsageStats to False.\n",
            "\u001b[0m\n",
            "\u001b[0m\n",
            "\u001b[34m\u001b[1m  You can now view your Streamlit app in your browser.\u001b[0m\n",
            "\u001b[0m\n",
            "\u001b[34m  Network URL: \u001b[0m\u001b[1mhttp://172.28.0.12:8501\u001b[0m\n",
            "\u001b[34m  External URL: \u001b[0m\u001b[1mhttp://34.123.69.33:8501\u001b[0m\n",
            "\u001b[0m\n",
            "\u001b[K\u001b[?25hnpx: installed 22 in 3.568s\n",
            "your url is: https://angry-things-attend-34-123-69-33.loca.lt\n",
            "\u001b[34m  Stopping...\u001b[0m\n",
            "^C\n",
            "time: 27min 44s (started: 2023-02-14 19:32:10 +00:00)\n"
          ]
        }
      ],
      "source": [
        "!streamlit run app.py & npx localtunnel --port 8501"
      ]
    },
    {
      "cell_type": "code",
      "execution_count": null,
      "metadata": {
        "id": "P5szbL7Xwp7p"
      },
      "outputs": [],
      "source": []
    }
  ],
  "metadata": {
    "colab": {
      "provenance": [],
      "authorship_tag": "ABX9TyOz62pnguO2IZVO8lkTXVN/",
      "include_colab_link": true
    },
    "kernelspec": {
      "display_name": "Python 3",
      "name": "python3"
    },
    "language_info": {
      "name": "python"
    }
  },
  "nbformat": 4,
  "nbformat_minor": 0
}